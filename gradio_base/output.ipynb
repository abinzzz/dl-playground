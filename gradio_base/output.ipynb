{
 "cells": [
  {
   "cell_type": "code",
   "execution_count": 4,
   "metadata": {},
   "outputs": [],
   "source": [
    "import gradio as gr\n",
    "\n",
    "import pandas as pd\n",
    "\n",
    "\n",
    "##BarPlot\n",
    "simple = pd.DataFrame({\n",
    "    \"a\":[1,2,3],\n",
    "    \"b\":[4,5,6]\n",
    "\n",
    "})\n",
    "\n",
    "\n",
    "demo = gr.Interface(fn=None,inputs=None,outputs=gr.BarPlot(simple,x=\"a\",y=\"b\"))\n",
    "\n",
    "#demo.launch()\n"
   ]
  },
  {
   "cell_type": "markdown",
   "metadata": {},
   "source": [
    "![](https://pic.imgdb.cn/item/6661cb0e5e6d1bfa051d9258.png)"
   ]
  },
  {
   "cell_type": "code",
   "execution_count": 9,
   "metadata": {},
   "outputs": [],
   "source": [
    "##Gallery\n",
    "\n",
    "def process():\n",
    "    cheetahs=[\n",
    "        \"https://pic.imgdb.cn/item/66626bfb5e6d1bfa05a30757.png\"\n",
    "    ]\n",
    "\n",
    "    return cheetahs \n",
    "\n",
    "demo = gr.Interface(fn=process,inputs=None,outputs=gr.Gallery(columns=1))\n",
    "\n",
    "#demo.launch()"
   ]
  },
  {
   "cell_type": "code",
   "execution_count": 12,
   "metadata": {},
   "outputs": [],
   "source": [
    "import numpy as np\n",
    "import matplotlib.pyplot as plt\n",
    "\n",
    "def  fig_output():\n",
    "    fs=8000\n",
    "    f=5\n",
    "    sample=10\n",
    "    x=np.arange(sample)\n",
    "    y=np.sin(2*np.pi*f*x/fs)\n",
    "\n",
    "    plt.plot(x,y)\n",
    "\n",
    "\n",
    "    return plt  \n",
    "\n",
    "demo = gr.Interface(fn=fig_output,inputs=None,outputs=gr.Plot())\n",
    "\n",
    "#demo.launch()\n",
    "\n",
    "\n",
    "\n",
    "\n"
   ]
  },
  {
   "cell_type": "markdown",
   "metadata": {},
   "source": [
    "![](https://pic.imgdb.cn/item/66626d745e6d1bfa05a490cf.png)"
   ]
  },
  {
   "cell_type": "code",
   "execution_count": 14,
   "metadata": {},
   "outputs": [],
   "source": [
    "def  fig_output():\n",
    "    fs=8000\n",
    "    f=5\n",
    "    sample=10\n",
    "    x=np.arange(sample)\n",
    "    y=np.sin(2*np.pi*f*x/fs)\n",
    "\n",
    "    plt.bar(x,y)\n",
    "\n",
    "\n",
    "    return plt  \n",
    "\n",
    "demo = gr.Interface(fn=fig_output,inputs=None,outputs=gr.Plot())\n",
    "\n",
    "#demo.launch()\n"
   ]
  },
  {
   "cell_type": "markdown",
   "metadata": {},
   "source": [
    "![](https://pic.imgdb.cn/item/66626dac5e6d1bfa05a4c7b1.png)"
   ]
  },
  {
   "cell_type": "code",
   "execution_count": 16,
   "metadata": {},
   "outputs": [],
   "source": [
    "json_sample={\n",
    "    \"name\":\"John\",\n",
    "    \"age\":30,\n",
    "    \"city\":\"New York\"\n",
    "\n",
    "}\n",
    "\n",
    "demo = gr.Interface(fn=None,inputs=None,outputs=gr.Json(json_sample))\n",
    "\n",
    "#demo.launch()"
   ]
  },
  {
   "cell_type": "markdown",
   "metadata": {},
   "source": [
    "![](https://pic.imgdb.cn/item/66626e745e6d1bfa05a58766.png)"
   ]
  },
  {
   "cell_type": "code",
   "execution_count": 19,
   "metadata": {},
   "outputs": [],
   "source": [
    "#html\n",
    "\n",
    "demo=gr.Interface(fn=None,inputs=None,outputs=gr.HTML(\"<h1> Hello World</h1>\"))\n",
    "\n",
    "#demo.launch()"
   ]
  },
  {
   "cell_type": "markdown",
   "metadata": {},
   "source": [
    "![](https://pic.imgdb.cn/item/66626ec05e6d1bfa05a5d0be.png)"
   ]
  },
  {
   "cell_type": "code",
   "execution_count": 2,
   "metadata": {},
   "outputs": [
    {
     "name": "stderr",
     "output_type": "stream",
     "text": [
      "/Users/chenyubin/anaconda3/envs/ab/lib/python3.11/site-packages/tqdm/auto.py:21: TqdmWarning: IProgress not found. Please update jupyter and ipywidgets. See https://ipywidgets.readthedocs.io/en/stable/user_install.html\n",
      "  from .autonotebook import tqdm as notebook_tqdm\n"
     ]
    },
    {
     "ename": "TypeError",
     "evalue": "Button.__init__() got an unexpected keyword argument 'text'",
     "output_type": "error",
     "traceback": [
      "\u001b[0;31m---------------------------------------------------------------------------\u001b[0m",
      "\u001b[0;31mTypeError\u001b[0m                                 Traceback (most recent call last)",
      "Cell \u001b[0;32mIn[2], line 12\u001b[0m\n\u001b[1;32m     10\u001b[0m     output_label \u001b[38;5;241m=\u001b[39m gr\u001b[38;5;241m.\u001b[39mLabel(num_top_classes\u001b[38;5;241m=\u001b[39m\u001b[38;5;241m10\u001b[39m)\n\u001b[1;32m     11\u001b[0m gr\u001b[38;5;241m.\u001b[39mExamples(examples\u001b[38;5;241m=\u001b[39m[\u001b[38;5;124m'\u001b[39m\u001b[38;5;124m./dog.jpeg\u001b[39m\u001b[38;5;124m'\u001b[39m, \u001b[38;5;124m'\u001b[39m\u001b[38;5;124m./cat.png\u001b[39m\u001b[38;5;124m'\u001b[39m], inputs\u001b[38;5;241m=\u001b[39m[input_img])\n\u001b[0;32m---> 12\u001b[0m button \u001b[38;5;241m=\u001b[39m \u001b[43mgr\u001b[49m\u001b[38;5;241;43m.\u001b[39;49m\u001b[43mButton\u001b[49m\u001b[43m(\u001b[49m\u001b[43mtext\u001b[49m\u001b[38;5;241;43m=\u001b[39;49m\u001b[38;5;124;43m\"\u001b[39;49m\u001b[38;5;124;43m分类\u001b[39;49m\u001b[38;5;124;43m\"\u001b[39;49m\u001b[43m,\u001b[49m\u001b[43m \u001b[49m\u001b[43mvariant\u001b[49m\u001b[38;5;241;43m=\u001b[39;49m\u001b[38;5;124;43m\"\u001b[39;49m\u001b[38;5;124;43mprimary\u001b[39;49m\u001b[38;5;124;43m\"\u001b[39;49m\u001b[43m)\u001b[49m\n\u001b[1;32m     13\u001b[0m button\u001b[38;5;241m.\u001b[39mclick(\u001b[38;5;28mcls\u001b[39m, inputs\u001b[38;5;241m=\u001b[39minput_img, outputs\u001b[38;5;241m=\u001b[39moutput_label)\n",
      "File \u001b[0;32m~/anaconda3/envs/ab/lib/python3.11/site-packages/gradio/component_meta.py:163\u001b[0m, in \u001b[0;36mupdateable.<locals>.wrapper\u001b[0;34m(*args, **kwargs)\u001b[0m\n\u001b[1;32m    161\u001b[0m     \u001b[38;5;28;01mreturn\u001b[39;00m \u001b[38;5;28;01mNone\u001b[39;00m\n\u001b[1;32m    162\u001b[0m \u001b[38;5;28;01melse\u001b[39;00m:\n\u001b[0;32m--> 163\u001b[0m     \u001b[38;5;28;01mreturn\u001b[39;00m \u001b[43mfn\u001b[49m\u001b[43m(\u001b[49m\u001b[38;5;28;43mself\u001b[39;49m\u001b[43m,\u001b[49m\u001b[43m \u001b[49m\u001b[38;5;241;43m*\u001b[39;49m\u001b[38;5;241;43m*\u001b[39;49m\u001b[43mkwargs\u001b[49m\u001b[43m)\u001b[49m\n",
      "\u001b[0;31mTypeError\u001b[0m: Button.__init__() got an unexpected keyword argument 'text'"
     ]
    }
   ],
   "source": [
    "import gradio as gr\n",
    "\n",
    "\n",
    "with gr.Blocks() as demo:\n",
    "    with gr.Tab(\"图像分类\"):\n",
    "        gr.Markdown(\"# 图像分类演示\")\n",
    "        with gr.Row():\n",
    "            input_img = gr.Image(sources=[\"upload\"], label=\"上传图片\", type='pil')\n",
    "            output_label = gr.Label(num_top_classes=10)\n",
    "        gr.Examples(examples=['./dog.jpeg', './cat.png'], inputs=[input_img])\n",
    "        button = gr.Button(text=\"分类\", variant=\"primary\")\n",
    "        button.click(cls, inputs=input_img, outputs=output_label)\n",
    "\n",
    "\n",
    "\n"
   ]
  }
 ],
 "metadata": {
  "kernelspec": {
   "display_name": "ab",
   "language": "python",
   "name": "python3"
  },
  "language_info": {
   "codemirror_mode": {
    "name": "ipython",
    "version": 3
   },
   "file_extension": ".py",
   "mimetype": "text/x-python",
   "name": "python",
   "nbconvert_exporter": "python",
   "pygments_lexer": "ipython3",
   "version": "3.11.0"
  }
 },
 "nbformat": 4,
 "nbformat_minor": 2
}
