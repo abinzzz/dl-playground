{
 "cells": [
  {
   "cell_type": "code",
   "execution_count": 4,
   "metadata": {},
   "outputs": [],
   "source": [
    "import gradio as gr\n",
    "\n",
    "with gr.Blocks() as demo:\n",
    "    with gr.Tab(label=\"Tab 1\"):\n",
    "        with gr.Row():\n",
    "           with gr.Column():\n",
    "               gr.Textbox(label=\"Textbox 1\")\n",
    "               gr.Textbox(label=\"Textbox 2\")\n",
    "\n",
    "\n",
    "\n",
    "#demo.launch()"
   ]
  },
  {
   "cell_type": "markdown",
   "metadata": {},
   "source": [
    "![](https://pic.imgdb.cn/item/666276bd5e6d1bfa05adcad5.png)"
   ]
  },
  {
   "cell_type": "code",
   "execution_count": 8,
   "metadata": {},
   "outputs": [],
   "source": [
    "with gr.Blocks() as demo:\n",
    "    with gr.Tab(label=\"Tab 1\"):\n",
    "        with gr.Row():\n",
    "           with gr.Column():\n",
    "               gr.Textbox(label=\"Textbox 1\")\n",
    "               gr.Textbox(label=\"Textbox 2\")\n",
    "           with gr.Column():\n",
    "              button1=gr.Button(value=\"Button 1\")\n",
    "              button2=gr.Button(value=\"Button 2\")\n",
    "              button3=gr.Button(value=\"Button 3\")\n",
    "           with gr.Column():\n",
    "               generate_button=gr.Button(value=\"Generate\")\n",
    "\n",
    "               with gr.Row():\n",
    "                   dropdown=gr.Dropdown([\"1\",\"2\",\"3\",\"4\"],label=\"Dropdown\")\n",
    "                   dropdown2=gr.Dropdown([\"1\",\"2\",\"3\",\"4\"],label=\"Dropdown\")\n",
    "\n",
    "#demo.launch()\n",
    "            \n",
    "                "
   ]
  },
  {
   "cell_type": "markdown",
   "metadata": {},
   "source": [
    "![](https://pic.imgdb.cn/item/666277e35e6d1bfa05b01f2d.png)"
   ]
  },
  {
   "cell_type": "code",
   "execution_count": 11,
   "metadata": {},
   "outputs": [],
   "source": [
    "with gr.Blocks() as demo:\n",
    "    with gr.Tab(label=\"Tab 1\"):\n",
    "        with gr.Row():\n",
    "           with gr.Column(scale=15):\n",
    "               gr.Textbox(label=\"Textbox 1\")\n",
    "               gr.Textbox(label=\"Textbox 2\")\n",
    "           with gr.Column(scale=1,min_width=1):\n",
    "              button1=gr.Button(value=\"Button 1\")\n",
    "              button2=gr.Button(value=\"Button 2\")\n",
    "              button3=gr.Button(value=\"Button 3\")\n",
    "           with gr.Column(scale=6):\n",
    "               generate_button=gr.Button(value=\"Generate\")\n",
    "\n",
    "               with gr.Row():\n",
    "                   dropdown=gr.Dropdown([\"1\",\"2\",\"3\",\"4\"],label=\"Dropdown\")\n",
    "                   dropdown2=gr.Dropdown([\"1\",\"2\",\"3\",\"4\"],label=\"Dropdown\")\n",
    "\n",
    "#demo.launch()"
   ]
  },
  {
   "cell_type": "markdown",
   "metadata": {},
   "source": [
    "![](https://pic.imgdb.cn/item/6662c98b5e6d1bfa050986d9.png)"
   ]
  },
  {
   "cell_type": "code",
   "execution_count": null,
   "metadata": {},
   "outputs": [],
   "source": [
    "\n",
    "\n"
   ]
  }
 ],
 "metadata": {
  "kernelspec": {
   "display_name": "ab",
   "language": "python",
   "name": "python3"
  },
  "language_info": {
   "codemirror_mode": {
    "name": "ipython",
    "version": 3
   },
   "file_extension": ".py",
   "mimetype": "text/x-python",
   "name": "python",
   "nbconvert_exporter": "python",
   "pygments_lexer": "ipython3",
   "version": "3.11.0"
  }
 },
 "nbformat": 4,
 "nbformat_minor": 2
}
